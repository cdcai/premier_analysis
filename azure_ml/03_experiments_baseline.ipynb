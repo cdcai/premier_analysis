{
  "cells": [
    {
      "cell_type": "markdown",
      "metadata": {
        "nteract": {
          "transient": {
            "deleting": false
          }
        }
      },
      "source": [
        "## Experiments Premier Analysis on Azure Machine Learning\n",
        "### Baseline models"
      ]
    },
    {
      "cell_type": "code",
      "execution_count": 1,
      "metadata": {
        "gather": {
          "logged": 1664484960308
        }
      },
      "outputs": [],
      "source": [
        "import argparse\n",
        "import os\n",
        "import sklearn\n",
        "import pandas as pd \n",
        "import numpy as np\n",
        "from sklearn.metrics import f1_score,accuracy_score\n",
        "from sklearn.model_selection import train_test_split\n",
        "from sklearn.linear_model import LogisticRegression\n",
        "from sklearn.ensemble import RandomForestClassifier\n",
        "from azureml.core import Run, Dataset, Environment,Experiment,ScriptRunConfig\n",
        "from sklearn.preprocessing import LabelEncoder\n",
        "from azureml.core.compute import ComputeTarget, AmlCompute\n",
        "from azureml.core.compute_target import ComputeTargetException\n",
        "from azureml.core.runconfig import DEFAULT_CPU_IMAGE"
      ]
    },
    {
      "cell_type": "code",
      "execution_count": 2,
      "metadata": {
        "collapsed": false,
        "gather": {
          "logged": 1664484974827
        },
        "jupyter": {
          "outputs_hidden": false,
          "source_hidden": false
        },
        "nteract": {
          "transient": {
            "deleting": false
          }
        }
      },
      "outputs": [
        {
          "name": "stdout",
          "output_type": "stream",
          "text": [
            "Performing interactive authentication. Please follow the instructions on the terminal.\n"
          ]
        },
        {
          "name": "stderr",
          "output_type": "stream",
          "text": [
            "Note, we have launched a browser for you to login. For old experience with device code, use \"az login --use-device-code\"\n"
          ]
        },
        {
          "name": "stdout",
          "output_type": "stream",
          "text": [
            "You have logged in. Now let us find all the subscriptions to which you have access...\n",
            "Interactive authentication successfully completed.\n"
          ]
        }
      ],
      "source": [
        "from azureml.core import  Workspace\n",
        "from azureml.core.authentication import InteractiveLoginAuthentication\n",
        "\n",
        "\n",
        "ws = Workspace.from_config()"
      ]
    },
    {
      "cell_type": "code",
      "execution_count": 3,
      "metadata": {
        "collapsed": false,
        "gather": {
          "logged": 1664484978004
        },
        "jupyter": {
          "outputs_hidden": false,
          "source_hidden": false
        },
        "nteract": {
          "transient": {
            "deleting": false
          }
        }
      },
      "outputs": [
        {
          "name": "stdout",
          "output_type": "stream",
          "text": [
            "Workspace name: cdh-azml-dev-mlw\n",
            "Azure region: eastus\n",
            "Subscription id: 320d8d57-c87c-4434-827f-59ee7d86687a\n",
            "Resource group: CSELS-CDH-DEV\n"
          ]
        }
      ],
      "source": [
        "print('Workspace name: ' + ws.name, \n",
        "      'Azure region: ' + ws.location, \n",
        "      'Subscription id: ' + ws.subscription_id, \n",
        "      'Resource group: ' + ws.resource_group, sep = '\\n')"
      ]
    },
    {
      "cell_type": "code",
      "execution_count": 12,
      "metadata": {
        "gather": {
          "logged": 1664484978143
        }
      },
      "outputs": [
        {
          "name": "stdout",
          "output_type": "stream",
          "text": [
            "Current Directory: c:\\Users\\wsn8\\Code\\premier_analysis\\azure_ml\n",
            "\n",
            "Parent Directory: c:\\Users\\wsn8\\Code\\premier_analysis\n"
          ]
        }
      ],
      "source": [
        "# current working directory\n",
        "path = os.getcwd()\n",
        "print(\"Current Directory:\", path)\n",
        "  \n",
        "# parent directory\n",
        "parent = os.path.join(path, os.pardir)\n",
        "  \n",
        "# prints parent directory\n",
        "print(\"\\nParent Directory:\", os.path.abspath(parent))\n",
        "\n",
        "premier_path = os.path.abspath(parent)"
      ]
    },
    {
      "cell_type": "markdown",
      "metadata": {
        "jupyter": {
          "outputs_hidden": false,
          "source_hidden": false
        },
        "nteract": {
          "transient": {
            "deleting": false
          }
        }
      },
      "source": [
        "### Create Compute"
      ]
    },
    {
      "cell_type": "code",
      "execution_count": 13,
      "metadata": {
        "gather": {
          "logged": 1664484987526
        }
      },
      "outputs": [
        {
          "name": "stdout",
          "output_type": "stream",
          "text": [
            "Find the existing cluster\n",
            "Succeeded\n",
            "AmlCompute wait for completion finished\n",
            "\n",
            "Minimum number of nodes requested have been provisioned\n"
          ]
        }
      ],
      "source": [
        "clustername = 'StandardD13v2'\n",
        "is_new_cluster = False\n",
        "try:\n",
        "    aml_compute_cpu = ComputeTarget(workspace = ws,name= clustername)\n",
        "    print(\"Find the existing cluster\")\n",
        "except ComputeTargetException:\n",
        "    print(\"Cluster not find - Creating cluster.....\")\n",
        "    is_new_cluster = True\n",
        "    compute_config = AmlCompute.provisioning_configuration(vm_size='STANDARD_DS13_V2',\n",
        "                                                           max_nodes=2)\n",
        "    aml_compute_cpu = ComputeTarget.create(ws, clustername, compute_config)\n",
        "\n",
        "aml_compute_cpu.wait_for_completion(show_output=True)"
      ]
    },
    {
      "cell_type": "code",
      "execution_count": 14,
      "metadata": {},
      "outputs": [
        {
          "name": "stdout",
          "output_type": "stream",
          "text": [
            "Overwriting conda_dependencies_baseline.yml\n"
          ]
        }
      ],
      "source": [
        "%%writefile conda_dependencies_baseline.yml\n",
        "\n",
        "channels:\n",
        "- anaconda\n",
        "- default\n",
        "dependencies:\n",
        "- python=3.8\n",
        "- pip:\n",
        "  - azureml-defaults\n",
        "  - matplotlib\n",
        "  - pandas\n",
        "  - argparse\n",
        "  - joblib\n",
        "  - scikit-learn\n",
        "  - azureml-sdk\n",
        "  - openpyxl"
      ]
    },
    {
      "cell_type": "code",
      "execution_count": 15,
      "metadata": {
        "gather": {
          "logged": 1664485211763
        }
      },
      "outputs": [
        {
          "data": {
            "text/plain": [
              "{\n",
              "    \"databricks\": {\n",
              "        \"eggLibraries\": [],\n",
              "        \"jarLibraries\": [],\n",
              "        \"mavenLibraries\": [],\n",
              "        \"pypiLibraries\": [],\n",
              "        \"rcranLibraries\": []\n",
              "    },\n",
              "    \"docker\": {\n",
              "        \"arguments\": [],\n",
              "        \"baseDockerfile\": null,\n",
              "        \"baseImage\": \"mcr.microsoft.com/azureml/intelmpi2018.3-ubuntu16.04:20210220.v1\",\n",
              "        \"baseImageRegistry\": {\n",
              "            \"address\": null,\n",
              "            \"password\": null,\n",
              "            \"registryIdentity\": null,\n",
              "            \"username\": null\n",
              "        },\n",
              "        \"enabled\": true,\n",
              "        \"platform\": {\n",
              "            \"architecture\": \"amd64\",\n",
              "            \"os\": \"Linux\"\n",
              "        },\n",
              "        \"sharedVolumes\": true,\n",
              "        \"shmSize\": null\n",
              "    },\n",
              "    \"environmentVariables\": {\n",
              "        \"EXAMPLE_ENV_VAR\": \"EXAMPLE_VALUE\"\n",
              "    },\n",
              "    \"inferencingStackVersion\": null,\n",
              "    \"name\": \"premier_train_baseline_env\",\n",
              "    \"python\": {\n",
              "        \"baseCondaEnvironment\": null,\n",
              "        \"condaDependencies\": {\n",
              "            \"channels\": [\n",
              "                \"anaconda\",\n",
              "                \"default\"\n",
              "            ],\n",
              "            \"dependencies\": [\n",
              "                \"python=3.8\",\n",
              "                {\n",
              "                    \"pip\": [\n",
              "                        \"azureml-defaults\",\n",
              "                        \"matplotlib\",\n",
              "                        \"pandas\",\n",
              "                        \"argparse\",\n",
              "                        \"joblib\",\n",
              "                        \"scikit-learn\",\n",
              "                        \"azureml-sdk\",\n",
              "                        \"openpyxl\"\n",
              "                    ]\n",
              "                }\n",
              "            ]\n",
              "        },\n",
              "        \"condaDependenciesFile\": null,\n",
              "        \"interpreterPath\": \"python\",\n",
              "        \"userManagedDependencies\": false\n",
              "    },\n",
              "    \"r\": null,\n",
              "    \"spark\": {\n",
              "        \"packages\": [],\n",
              "        \"precachePackages\": true,\n",
              "        \"repositories\": []\n",
              "    },\n",
              "    \"version\": \"3\"\n",
              "}"
            ]
          },
          "execution_count": 15,
          "metadata": {},
          "output_type": "execute_result"
        }
      ],
      "source": [
        "premier_train_baseline_env = Environment.from_conda_specification(name='premier_train_baseline_env', file_path='conda_dependencies_baseline.yml')\n",
        "# Specify a CPU base image\n",
        "premier_train_baseline_env.docker.enabled = True\n",
        "premier_train_baseline_env.docker.base_image = DEFAULT_CPU_IMAGE\n",
        "premier_train_baseline_env.register(workspace=ws)"
      ]
    },
    {
      "cell_type": "code",
      "execution_count": 16,
      "metadata": {
        "gather": {
          "logged": 1664485247001
        }
      },
      "outputs": [
        {
          "name": "stdout",
          "output_type": "stream",
          "text": [
            "Submit Experiment\n",
            "Submit Experiment\n",
            "Submit Experiment\n",
            "Submit Experiment\n",
            "Submit Experiment\n",
            "Submit Experiment\n",
            "Submit Experiment\n",
            "Submit Experiment\n",
            "Submit Experiment\n",
            "Submit Experiment\n",
            "Submit Experiment\n",
            "Submit Experiment\n"
          ]
        }
      ],
      "source": [
        "# create script config\n",
        "\n",
        "mod_names = ['lgr', 'rf', 'gbc', 'svm']\n",
        "outcomes = ['icu','misa_pt','death']\n",
        "#mod_names = ['svm']\n",
        "for mod in mod_names:\n",
        "    for outcome in outcomes:\n",
        "        estimator = ScriptRunConfig(source_directory='./training',\n",
        "                            script='train_baseline.py',\n",
        "                            compute_target=aml_compute_cpu,\n",
        "                            arguments=['--day_one','--outcome', outcome,'--model', mod],\n",
        "                            environment=premier_train_baseline_env)\n",
        "        # Create experiment\n",
        "        exp_name = f\"Job-train-baseline-d1-{outcome}-{mod}\"\n",
        "        experiment = Experiment(workspace=ws, name=f\"Job-train-baseline-d1-{outcome}-{mod}\")\n",
        "        \n",
        "        print(\"Submit Experiment:\",exp_name)\n",
        "        run = experiment.submit(estimator)\n"
      ]
    },
    {
      "cell_type": "code",
      "execution_count": null,
      "metadata": {},
      "outputs": [],
      "source": []
    }
  ],
  "metadata": {
    "kernel_info": {
      "name": "python38-azureml"
    },
    "kernelspec": {
      "display_name": "Python 3.7.10 ('azureml')",
      "language": "python",
      "name": "python3"
    },
    "language_info": {
      "codemirror_mode": {
        "name": "ipython",
        "version": 3
      },
      "file_extension": ".py",
      "mimetype": "text/x-python",
      "name": "python",
      "nbconvert_exporter": "python",
      "pygments_lexer": "ipython3",
      "version": "3.7.10"
    },
    "microsoft": {
      "host": {
        "AzureML": {
          "notebookHasBeenCompleted": true
        }
      }
    },
    "nteract": {
      "version": "nteract-front-end@1.0.0"
    },
    "vscode": {
      "interpreter": {
        "hash": "c29d249f6248e1876db3a43ab8bde2e53ec2cf908dd5eb31493a2d1f2322e9b6"
      }
    }
  },
  "nbformat": 4,
  "nbformat_minor": 4
}
