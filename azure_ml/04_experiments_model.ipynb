{
  "cells": [
    {
      "cell_type": "markdown",
      "source": [
        "# Deep Models Experiments Premier Analysis on Azure Machine Learning\r\n",
        "### LSTM and DAN "
      ],
      "metadata": {
        "nteract": {
          "transient": {
            "deleting": false
          }
        }
      }
    },
    {
      "cell_type": "code",
      "source": [
        "import argparse\r\n",
        "import os\r\n",
        "import sklearn\r\n",
        "import pandas as pd \r\n",
        "import numpy as np\r\n",
        "from sklearn.metrics import f1_score,accuracy_score\r\n",
        "from sklearn.model_selection import train_test_split\r\n",
        "from sklearn.linear_model import LogisticRegression\r\n",
        "from sklearn.ensemble import RandomForestClassifier\r\n",
        "from azureml.core import Run, Dataset, Environment,Experiment,ScriptRunConfig\r\n",
        "from sklearn.preprocessing import LabelEncoder\r\n",
        "from azureml.core.compute import ComputeTarget, AmlCompute\r\n",
        "from azureml.core.compute_target import ComputeTargetException\r\n",
        "from azureml.core.runconfig import DEFAULT_CPU_IMAGE"
      ],
      "outputs": [],
      "execution_count": 1,
      "metadata": {
        "jupyter": {
          "source_hidden": false,
          "outputs_hidden": false
        },
        "nteract": {
          "transient": {
            "deleting": false
          }
        },
        "gather": {
          "logged": 1664485227419
        }
      }
    },
    {
      "cell_type": "code",
      "source": [
        "from azureml.core import  Workspace\r\n",
        "from azureml.core.authentication import InteractiveLoginAuthentication\r\n",
        "interactive_auth = InteractiveLoginAuthentication(tenant_id=\"9ce70869-60db-44fd-abe8-d2767077fc8f\")\r\n",
        "\r\n",
        "ws = Workspace.from_config()"
      ],
      "outputs": [],
      "execution_count": 2,
      "metadata": {
        "jupyter": {
          "source_hidden": false,
          "outputs_hidden": false
        },
        "nteract": {
          "transient": {
            "deleting": false
          }
        },
        "gather": {
          "logged": 1664485241655
        }
      }
    },
    {
      "cell_type": "code",
      "source": [
        "print('Workspace name: ' + ws.name, \r\n",
        "      'Azure region: ' + ws.location, \r\n",
        "      'Subscription id: ' + ws.subscription_id, \r\n",
        "      'Resource group: ' + ws.resource_group, sep = '\\n')"
      ],
      "outputs": [
        {
          "output_type": "stream",
          "name": "stdout",
          "text": "Workspace name: cdh-azml-dev-mlw\nAzure region: eastus\nSubscription id: 320d8d57-c87c-4434-827f-59ee7d86687a\nResource group: csels-cdh-dev\n"
        }
      ],
      "execution_count": 3,
      "metadata": {
        "jupyter": {
          "source_hidden": false,
          "outputs_hidden": false
        },
        "nteract": {
          "transient": {
            "deleting": false
          }
        },
        "gather": {
          "logged": 1664485241770
        }
      }
    },
    {
      "cell_type": "code",
      "source": [
        "# current working directory\r\n",
        "path = os.getcwd()\r\n",
        "print(\"Current Directory:\", path)\r\n",
        "  \r\n",
        "# parent directory\r\n",
        "parent = os.path.join(path, os.pardir)\r\n",
        "  \r\n",
        "# prints parent directory\r\n",
        "print(\"\\nParent Directory:\", os.path.abspath(parent))\r\n",
        "\r\n",
        "premier_path = os.path.abspath(parent)"
      ],
      "outputs": [
        {
          "output_type": "stream",
          "name": "stdout",
          "text": "Current Directory: /mnt/batch/tasks/shared/LS_root/mounts/clusters/wsn8-su2/code/Users/WSN8-SU/premier_analysis/azure_ml\n\nParent Directory: /mnt/batch/tasks/shared/LS_root/mounts/clusters/wsn8-su2/code/Users/WSN8-SU/premier_analysis\n"
        }
      ],
      "execution_count": 4,
      "metadata": {
        "jupyter": {
          "source_hidden": false,
          "outputs_hidden": false
        },
        "nteract": {
          "transient": {
            "deleting": false
          }
        },
        "gather": {
          "logged": 1664485241891
        }
      }
    },
    {
      "cell_type": "markdown",
      "source": [
        "### Create Compute"
      ],
      "metadata": {
        "nteract": {
          "transient": {
            "deleting": false
          }
        }
      }
    },
    {
      "cell_type": "code",
      "source": [
        "clustername = 'StandardNC6'\r\n",
        "is_new_cluster = False\r\n",
        "try:\r\n",
        "    aml_cluster = ComputeTarget(workspace = ws,name= clustername)\r\n",
        "    print(\"Find the existing cluster\")\r\n",
        "except ComputeTargetException:\r\n",
        "    print(\"Cluster not find - Creating cluster.....\")\r\n",
        "    is_new_cluster = True\r\n",
        "    compute_config = AmlCompute.provisioning_configuration(vm_size='StandardNC6',\r\n",
        "                                                           max_nodes=2)\r\n",
        "    aml_cluster = ComputeTarget.create(ws, clustername, compute_config)\r\n",
        "\r\n",
        "aml_cluster.wait_for_completion(show_output=True)"
      ],
      "outputs": [
        {
          "output_type": "stream",
          "name": "stdout",
          "text": "Find the existing cluster\nSucceeded\nAmlCompute wait for completion finished\n\nMinimum number of nodes requested have been provisioned\n"
        }
      ],
      "execution_count": 5,
      "metadata": {
        "jupyter": {
          "source_hidden": false,
          "outputs_hidden": false
        },
        "nteract": {
          "transient": {
            "deleting": false
          }
        },
        "gather": {
          "logged": 1664485246920
        }
      }
    },
    {
      "cell_type": "code",
      "source": [
        "features_path = os.path.join(premier_path,'output/parquet')\r\n",
        "features_pkl = os.path.join(premier_path,'output/pkl')\r\n",
        "\r\n",
        "\r\n",
        "data_store = ws.get_default_datastore()\r\n",
        "data_store.upload(src_dir=features_path,target_path='parquet',overwrite=True,show_progress=True)\r\n",
        "data_store.upload(src_dir=features_pkl,target_path='pkl',overwrite=True,show_progress=True)"
      ],
      "outputs": [
        {
          "output_type": "stream",
          "name": "stderr",
          "text": "\"Datastore.upload\" is deprecated after version 1.0.69. Please use \"Dataset.File.upload_directory\" to upload your files             from a local directory and create FileDataset in single method call. See Dataset API change notice at https://aka.ms/dataset-deprecation.\n"
        },
        {
          "output_type": "stream",
          "name": "stdout",
          "text": "Uploading an estimated of 3 files\nUploading /mnt/batch/tasks/shared/LS_root/mounts/clusters/wsn8-su2/code/Users/WSN8-SU/premier_analysis/output/parquet/.amlignore\nUploaded /mnt/batch/tasks/shared/LS_root/mounts/clusters/wsn8-su2/code/Users/WSN8-SU/premier_analysis/output/parquet/.amlignore, 1 files out of an estimated total of 3\nUploading /mnt/batch/tasks/shared/LS_root/mounts/clusters/wsn8-su2/code/Users/WSN8-SU/premier_analysis/output/parquet/.amlignore.amltmp\nUploaded /mnt/batch/tasks/shared/LS_root/mounts/clusters/wsn8-su2/code/Users/WSN8-SU/premier_analysis/output/parquet/.amlignore.amltmp, 2 files out of an estimated total of 3\nUploading /mnt/batch/tasks/shared/LS_root/mounts/clusters/wsn8-su2/code/Users/WSN8-SU/premier_analysis/output/parquet/flat_features.parquet\nUploaded /mnt/batch/tasks/shared/LS_root/mounts/clusters/wsn8-su2/code/Users/WSN8-SU/premier_analysis/output/parquet/flat_features.parquet, 3 files out of an estimated total of 3\nUploaded 3 files\nUploading an estimated of 8 files\nUploading /mnt/batch/tasks/shared/LS_root/mounts/clusters/wsn8-su2/code/Users/WSN8-SU/premier_analysis/output/pkl/.amlignore\nUploaded /mnt/batch/tasks/shared/LS_root/mounts/clusters/wsn8-su2/code/Users/WSN8-SU/premier_analysis/output/pkl/.amlignore, 1 files out of an estimated total of 8\nUploading /mnt/batch/tasks/shared/LS_root/mounts/clusters/wsn8-su2/code/Users/WSN8-SU/premier_analysis/output/pkl/.amlignore.amltmp\nUploaded /mnt/batch/tasks/shared/LS_root/mounts/clusters/wsn8-su2/code/Users/WSN8-SU/premier_analysis/output/pkl/.amlignore.amltmp, 2 files out of an estimated total of 8\nUploading /mnt/batch/tasks/shared/LS_root/mounts/clusters/wsn8-su2/code/Users/WSN8-SU/premier_analysis/output/pkl/demog_dict.pkl\nUploaded /mnt/batch/tasks/shared/LS_root/mounts/clusters/wsn8-su2/code/Users/WSN8-SU/premier_analysis/output/pkl/demog_dict.pkl, 3 files out of an estimated total of 8\nUploading /mnt/batch/tasks/shared/LS_root/mounts/clusters/wsn8-su2/code/Users/WSN8-SU/premier_analysis/output/pkl/all_ftrs_dict.pkl\nUploaded /mnt/batch/tasks/shared/LS_root/mounts/clusters/wsn8-su2/code/Users/WSN8-SU/premier_analysis/output/pkl/all_ftrs_dict.pkl, 4 files out of an estimated total of 8\nUploading /mnt/batch/tasks/shared/LS_root/mounts/clusters/wsn8-su2/code/Users/WSN8-SU/premier_analysis/output/pkl/feature_lookup.pkl\nUploaded /mnt/batch/tasks/shared/LS_root/mounts/clusters/wsn8-su2/code/Users/WSN8-SU/premier_analysis/output/pkl/feature_lookup.pkl, 5 files out of an estimated total of 8\nUploading /mnt/batch/tasks/shared/LS_root/mounts/clusters/wsn8-su2/code/Users/WSN8-SU/premier_analysis/output/pkl/trimmed_seqs.pkl\nUploaded /mnt/batch/tasks/shared/LS_root/mounts/clusters/wsn8-su2/code/Users/WSN8-SU/premier_analysis/output/pkl/trimmed_seqs.pkl, 6 files out of an estimated total of 8\n"
        }
      ],
      "execution_count": 6,
      "metadata": {
        "jupyter": {
          "source_hidden": false,
          "outputs_hidden": false
        },
        "nteract": {
          "transient": {
            "deleting": false
          }
        },
        "gather": {
          "logged": 1664370030123
        }
      }
    },
    {
      "cell_type": "code",
      "source": [
        "cohort_path = os.path.join(premier_path,'output/cohort')\r\n",
        "data_store.upload(src_dir=cohort_path,target_path='cohort',overwrite=True,show_progress=True)"
      ],
      "outputs": [],
      "execution_count": null,
      "metadata": {
        "jupyter": {
          "source_hidden": false,
          "outputs_hidden": false
        },
        "nteract": {
          "transient": {
            "deleting": false
          }
        },
        "gather": {
          "logged": 1664370033550
        }
      }
    },
    {
      "cell_type": "code",
      "source": [
        "%%writefile conda_dependencies_model.yml\r\n",
        "\r\n",
        "channels:\r\n",
        "- anaconda\r\n",
        "- default\r\n",
        "dependencies:\r\n",
        "- python=3.8\r\n",
        "- pip:\r\n",
        "  - azureml-defaults\r\n",
        "  - matplotlib\r\n",
        "  - pandas\r\n",
        "  - argparse\r\n",
        "  - joblib\r\n",
        "  - scikit-learn\r\n",
        "  - azureml-sdk\r\n",
        "  - openpyxl\r\n",
        "  - tensorflow\r\n",
        "  - keras-tuner"
      ],
      "outputs": [
        {
          "output_type": "stream",
          "name": "stdout",
          "text": "Overwriting conda_dependencies_model.yml\n"
        }
      ],
      "execution_count": 59,
      "metadata": {
        "jupyter": {
          "source_hidden": false,
          "outputs_hidden": false
        },
        "nteract": {
          "transient": {
            "deleting": false
          }
        }
      }
    },
    {
      "cell_type": "code",
      "source": [
        "premier_train_model_env = Environment.from_conda_specification(name='premier_train_model_env', file_path='conda_dependencies_model.yml')\r\n",
        "# Specify a GPU base image\r\n",
        "premier_train_model_env.docker.enabled = True\r\n",
        "premier_train_model_env.docker.base_image = DEFAULT_CPU_IMAGE\r\n",
        "premier_train_model_env.register(workspace=ws)"
      ],
      "outputs": [],
      "execution_count": null,
      "metadata": {
        "jupyter": {
          "source_hidden": false,
          "outputs_hidden": false
        },
        "nteract": {
          "transient": {
            "deleting": false
          }
        },
        "gather": {
          "logged": 1664370038152
        }
      }
    },
    {
      "cell_type": "code",
      "source": [
        "\r\n",
        "mod_names = ['dan', 'lstm']\r\n",
        "#outcomes = ['icu','death','misa_pt']\r\n",
        "outcomes = ['icu']\r\n",
        "EPOCHS = 10\r\n",
        "for outcome in outcomes:\r\n",
        "    # Create experiment\r\n",
        "    experiment = Experiment(workspace=ws, name=f\"Premier-outcome-{outcome}\")\r\n",
        "    for mod in mod_names:\r\n",
        "\r\n",
        "        estimator = ScriptRunConfig(source_directory='./training',\r\n",
        "                            script='train_model.py',\r\n",
        "                            compute_target=aml_cluster,\r\n",
        "                            arguments=['--all_days','--outcome', outcome,'--model', mod,'--epochs',EPOCHS],\r\n",
        "                            environment=premier_train_model_env)\r\n",
        "\r\n",
        "        \r\n",
        "        print(\"Submit Experiment\")\r\n",
        "        run = experiment.submit(estimator)"
      ],
      "outputs": [],
      "execution_count": null,
      "metadata": {
        "jupyter": {
          "source_hidden": false,
          "outputs_hidden": false
        },
        "nteract": {
          "transient": {
            "deleting": false
          }
        },
        "gather": {
          "logged": 1664390470183
        }
      }
    }
  ],
  "metadata": {
    "kernelspec": {
      "name": "python38-azureml",
      "language": "python",
      "display_name": "Python 3.8 - AzureML"
    },
    "language_info": {
      "name": "python",
      "version": "3.8.13",
      "mimetype": "text/x-python",
      "codemirror_mode": {
        "name": "ipython",
        "version": 3
      },
      "pygments_lexer": "ipython3",
      "nbconvert_exporter": "python",
      "file_extension": ".py"
    },
    "kernel_info": {
      "name": "python38-azureml"
    },
    "microsoft": {
      "host": {
        "AzureML": {
          "notebookHasBeenCompleted": true
        }
      }
    },
    "nteract": {
      "version": "nteract-front-end@1.0.0"
    }
  },
  "nbformat": 4,
  "nbformat_minor": 2
}