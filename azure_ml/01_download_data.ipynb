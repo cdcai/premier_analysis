{
  "cells": [
    {
      "cell_type": "markdown",
      "source": [
        "# Download data from Azure Data Lake Storage"
      ],
      "metadata": {
        "nteract": {
          "transient": {
            "deleting": false
          }
        }
      }
    },
    {
      "cell_type": "code",
      "source": [
        "import os\r\n",
        "from azureml.core import Workspace, Datastore, Dataset\r\n",
        "\r\n",
        "datastore_name = 'edav_dev_ds'\r\n",
        "cdh_path = 'exploratory/databricks_ml/mitre_premier/data/'\r\n",
        "\r\n",
        "datasets_path_name =  ['vw_covid_pat','vw_covid_id','vw_covid_genlab',\r\n",
        "                            'vw_covid_hx_genlab','vw_covid_lab_res','vw_covid_hx_lab_res','vw_covid_vitals',\r\n",
        "                            'vw_covid_hx_vitals','vw_covid_bill_lab','vw_covid_bill_pharm','vw_covid_bill_oth',\r\n",
        "                            'vw_covid_hx_bill','vw_covid_paticd_diag','vw_covid_paticd_proc','vw_covid_additional_paticd_diag',\r\n",
        "                            'vw_covid_additional_paticd_proc','icdcode']\r\n",
        "\r\n",
        "# get existing workspace\r\n",
        "workspace = Workspace.from_config()\r\n",
        "    \r\n",
        "# retrieve an existing datastore in the workspace by name\r\n",
        "datastore = Datastore.get(workspace, datastore_name)\r\n",
        "\r\n",
        "\r\n",
        "\r\n"
      ],
      "outputs": [],
      "execution_count": 2,
      "metadata": {
        "gather": {
          "logged": 1664481157228
        }
      }
    },
    {
      "cell_type": "code",
      "source": [
        "# current working directory\r\n",
        "path = os.getcwd()\r\n",
        "print(\"Current Directory:\", path)\r\n",
        "  \r\n",
        "# parent directory\r\n",
        "parent = os.path.join(path, os.pardir)\r\n",
        "  \r\n",
        "# prints parent directory\r\n",
        "print(\"\\nParent Directory:\", os.path.abspath(parent))"
      ],
      "outputs": [
        {
          "output_type": "stream",
          "name": "stdout",
          "text": "Current Directory: /mnt/batch/tasks/shared/LS_root/mounts/clusters/wsn8-su2/code/Users/WSN8-SU/premier_analysis/azure_ml\n\nParent Directory: /mnt/batch/tasks/shared/LS_root/mounts/clusters/wsn8-su2/code/Users/WSN8-SU/premier_analysis\n"
        }
      ],
      "execution_count": 3,
      "metadata": {
        "jupyter": {
          "source_hidden": false,
          "outputs_hidden": false
        },
        "nteract": {
          "transient": {
            "deleting": false
          }
        },
        "gather": {
          "logged": 1664481157359
        }
      }
    },
    {
      "cell_type": "code",
      "source": [
        "premier_path = os.path.abspath(parent)\r\n",
        "cdh_path = 'exploratory/databricks_ml/mitre_premier/data/'\r\n",
        "#for _path_name in datasets_path_name[9:]:\r\n",
        "#    print(f\"Downloading data :{_path_name}.....\")\r\n",
        "#    \r\n",
        "    # Azure data lake storage path\r\n",
        "#    patient_datapath = os.path.join(cdh_path,_path_name)\r\n",
        "    # print(patient_datapath)\r\n",
        "#    datastore_paths = [(datastore, patient_datapath)]\r\n",
        "\r\n",
        "    #load parquet files from # Azure data lake storage\r\n",
        "#    ds = Dataset.File.from_files(path= datastore_paths)\r\n",
        "\r\n",
        "    # local path to download data\r\n",
        "#    download_data_path = os.path.join(premier_path,'data/data/',_path_name)\r\n",
        "     # create folder\r\n",
        "#    os.makedirs(download_data_path,exist_ok=True)\r\n",
        "\r\n",
        "#    ds.download(target_path=download_data_path,overwrite=True,ignore_not_found=True)\r\n",
        "\r\n",
        "\r\n"
      ],
      "outputs": [],
      "execution_count": 4,
      "metadata": {
        "jupyter": {
          "source_hidden": false,
          "outputs_hidden": false
        },
        "nteract": {
          "transient": {
            "deleting": false
          }
        },
        "gather": {
          "logged": 1664481157487
        }
      }
    },
    {
      "cell_type": "code",
      "source": [
        "\r\n",
        "def download_files(_path_name):\r\n",
        "    print(f\"Downloading data :{_path_name}.....\")\r\n",
        "    \r\n",
        "    # Azure data lake storage path\r\n",
        "    patient_datapath = os.path.join(cdh_path,_path_name)\r\n",
        "    # print(patient_datapath)\r\n",
        "    datastore_paths = [(datastore, patient_datapath)]\r\n",
        "\r\n",
        "    #load parquet files from # Azure data lake storage\r\n",
        "    ds = Dataset.File.from_files(path= datastore_paths)\r\n",
        "\r\n",
        "    # local path to download data\r\n",
        "    download_data_path = os.path.join(premier_path,'data/data/',_path_name)\r\n",
        "     # create folder\r\n",
        "    os.makedirs(download_data_path,exist_ok=True)\r\n",
        "\r\n",
        "    ds.download(target_path=download_data_path,overwrite=True,ignore_not_found=True)"
      ],
      "outputs": [],
      "execution_count": 5,
      "metadata": {
        "jupyter": {
          "source_hidden": false,
          "outputs_hidden": false
        },
        "nteract": {
          "transient": {
            "deleting": false
          }
        },
        "gather": {
          "logged": 1664481157598
        }
      }
    },
    {
      "cell_type": "code",
      "source": [
        "datasets_path_name =  ['vw_covid_pat','vw_covid_id','vw_covid_genlab',\r\n",
        "                            'vw_covid_hx_genlab','vw_covid_lab_res','vw_covid_hx_lab_res','vw_covid_vitals',\r\n",
        "                            'vw_covid_hx_vitals','vw_covid_bill_lab','vw_covid_bill_pharm','vw_covid_bill_oth',\r\n",
        "                            'vw_covid_hx_bill','vw_covid_paticd_diag','vw_covid_paticd_proc','vw_covid_additional_paticd_diag',\r\n",
        "                            'vw_covid_additional_paticd_proc','icdcode','vw_covid_pat_all','providers']\r\n",
        "\r\n",
        "for ds_name in datasets_path_name:\r\n",
        "    download_files(ds_name)"
      ],
      "outputs": [
        {
          "output_type": "stream",
          "name": "stdout",
          "text": "Downloading data :vw_covid_pat.....\nDownloading data :vw_covid_id.....\nDownloading data :vw_covid_genlab.....\nDownloading data :vw_covid_hx_genlab.....\nDownloading data :vw_covid_lab_res.....\nDownloading data :vw_covid_hx_lab_res.....\nDownloading data :vw_covid_vitals.....\nDownloading data :vw_covid_hx_vitals.....\nDownloading data :vw_covid_bill_lab.....\nDownloading data :vw_covid_bill_pharm.....\nDownloading data :vw_covid_bill_oth.....\nDownloading data :vw_covid_hx_bill.....\nDownloading data :vw_covid_paticd_diag.....\nDownloading data :vw_covid_paticd_proc.....\nDownloading data :vw_covid_additional_paticd_diag.....\nDownloading data :vw_covid_additional_paticd_proc.....\nDownloading data :icdcode.....\n"
        }
      ],
      "execution_count": 34,
      "metadata": {
        "jupyter": {
          "source_hidden": false,
          "outputs_hidden": false
        },
        "nteract": {
          "transient": {
            "deleting": false
          }
        },
        "gather": {
          "logged": 1664477974827
        }
      }
    },
    {
      "cell_type": "code",
      "source": [
        "download_files(\"providers\")"
      ],
      "outputs": [
        {
          "output_type": "stream",
          "name": "stdout",
          "text": "Downloading data :providers.....\n"
        }
      ],
      "execution_count": 7,
      "metadata": {
        "jupyter": {
          "source_hidden": false,
          "outputs_hidden": false
        },
        "nteract": {
          "transient": {
            "deleting": false
          }
        },
        "gather": {
          "logged": 1664481187482
        }
      }
    },
    {
      "cell_type": "markdown",
      "source": [
        "### ICU Target"
      ],
      "metadata": {
        "nteract": {
          "transient": {
            "deleting": false
          }
        }
      }
    },
    {
      "cell_type": "code",
      "source": [
        "cdh_path = 'exploratory/databricks_ml/mitre_premier/targets/'\r\n",
        "\r\n",
        "# Azure data lake storage path\r\n",
        "icu_datapath = os.path.join(cdh_path,'icu_targets.csv')\r\n",
        "print(icu_datapath)\r\n",
        "datastore_icu_paths = [(datastore, icu_datapath)]\r\n",
        "\r\n",
        "#load parquet files from # Azure data lake storage\r\n",
        "ds = Dataset.File.from_files(path= datastore_icu_paths)"
      ],
      "outputs": [
        {
          "output_type": "stream",
          "name": "stdout",
          "text": "exploratory/databricks_ml/mitre_premier/targets/icu_targets.csv\n"
        }
      ],
      "execution_count": 26,
      "metadata": {
        "jupyter": {
          "source_hidden": false,
          "outputs_hidden": false
        },
        "nteract": {
          "transient": {
            "deleting": false
          }
        },
        "gather": {
          "logged": 1664477652426
        }
      }
    },
    {
      "cell_type": "code",
      "source": [
        "ds"
      ],
      "outputs": [
        {
          "output_type": "execute_result",
          "execution_count": 27,
          "data": {
            "text/plain": "{\n  \"source\": [\n    \"('edav_dev_ds', 'exploratory/databricks_ml/mitre_premier/targets/icu_targets.csv')\"\n  ],\n  \"definition\": [\n    \"GetDatastoreFiles\"\n  ]\n}"
          },
          "metadata": {}
        }
      ],
      "execution_count": 27,
      "metadata": {
        "jupyter": {
          "source_hidden": false,
          "outputs_hidden": false
        },
        "nteract": {
          "transient": {
            "deleting": false
          }
        },
        "gather": {
          "logged": 1664477660119
        }
      }
    },
    {
      "cell_type": "code",
      "source": [
        "premier_path = os.path.abspath(parent)\r\n",
        "print(premier_path)\r\n",
        "# local path to download data\r\n",
        "download_data_path_icu = os.path.join(premier_path,'data/targets/')\r\n",
        "# create folder\r\n",
        "os.makedirs(download_data_path_icu,exist_ok=True)\r\n",
        "ds.download(target_path=download_data_path_icu,overwrite=True,ignore_not_found=True,)"
      ],
      "outputs": [
        {
          "output_type": "stream",
          "name": "stdout",
          "text": "/mnt/batch/tasks/shared/LS_root/mounts/clusters/wsn8-su2/code/Users/WSN8-SU/premier_analysis\n"
        },
        {
          "output_type": "execute_result",
          "execution_count": 28,
          "data": {
            "text/plain": "['/mnt/batch/tasks/shared/LS_root/mounts/clusters/wsn8-su2/code/Users/WSN8-SU/premier_analysis/data/targets/icu_targets.csv']"
          },
          "metadata": {}
        }
      ],
      "execution_count": 28,
      "metadata": {
        "jupyter": {
          "source_hidden": false,
          "outputs_hidden": false
        },
        "nteract": {
          "transient": {
            "deleting": false
          }
        },
        "gather": {
          "logged": 1664477669039
        }
      }
    },
    {
      "cell_type": "markdown",
      "source": [
        "## Cohort\r\n"
      ],
      "metadata": {
        "nteract": {
          "transient": {
            "deleting": false
          }
        }
      }
    },
    {
      "cell_type": "code",
      "source": [
        "cdh_path = 'exploratory/databricks_ml/mitre_premier/output/'\r\n",
        "\r\n",
        "# Azure data lake storage path\r\n",
        "_datapath = os.path.join(cdh_path,'cohort.csv')\r\n",
        "# print(patient_datapath)\r\n",
        "datastore_paths = [(datastore, _datapath)]\r\n",
        "\r\n",
        "#load parquet files from # Azure data lake storage\r\n",
        "ds = Dataset.File.from_files(path= datastore_paths)\r\n",
        "premier_path = os.path.abspath(parent)\r\n",
        "print(premier_path)\r\n",
        "# local path to download data\r\n",
        "download_data_path_cohort = os.path.join(premier_path,'output')\r\n",
        "# create folder\r\n",
        "os.makedirs(download_data_path_cohort,exist_ok=True)\r\n",
        "ds.download(target_path=download_data_path_cohort,overwrite=True,ignore_not_found=True)"
      ],
      "outputs": [
        {
          "output_type": "stream",
          "name": "stdout",
          "text": "/mnt/batch/tasks/shared/LS_root/mounts/clusters/wsn8-su2/code/Users/WSN8-SU/premier_analysis\n"
        },
        {
          "output_type": "execute_result",
          "execution_count": 25,
          "data": {
            "text/plain": "['/mnt/batch/tasks/shared/LS_root/mounts/clusters/wsn8-su2/code/Users/WSN8-SU/premier_analysis/output/cohort.csv']"
          },
          "metadata": {}
        }
      ],
      "execution_count": 25,
      "metadata": {
        "jupyter": {
          "source_hidden": false,
          "outputs_hidden": false
        },
        "nteract": {
          "transient": {
            "deleting": false
          }
        },
        "gather": {
          "logged": 1664477592389
        }
      }
    },
    {
      "cell_type": "code",
      "source": [],
      "outputs": [],
      "execution_count": null,
      "metadata": {
        "jupyter": {
          "source_hidden": false,
          "outputs_hidden": false
        },
        "nteract": {
          "transient": {
            "deleting": false
          }
        }
      }
    }
  ],
  "metadata": {
    "kernelspec": {
      "name": "python38-azureml",
      "language": "python",
      "display_name": "Python 3.8 - AzureML"
    },
    "language_info": {
      "name": "python",
      "version": "3.8.13",
      "mimetype": "text/x-python",
      "codemirror_mode": {
        "name": "ipython",
        "version": 3
      },
      "pygments_lexer": "ipython3",
      "nbconvert_exporter": "python",
      "file_extension": ".py"
    },
    "kernel_info": {
      "name": "python38-azureml"
    },
    "nteract": {
      "version": "nteract-front-end@1.0.0"
    },
    "microsoft": {
      "host": {
        "AzureML": {
          "notebookHasBeenCompleted": true
        }
      }
    }
  },
  "nbformat": 4,
  "nbformat_minor": 2
}